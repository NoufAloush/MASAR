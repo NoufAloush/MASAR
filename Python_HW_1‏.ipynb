{
  "nbformat": 4,
  "nbformat_minor": 0,
  "metadata": {
    "colab": {
      "provenance": [],
      "include_colab_link": true
    },
    "kernelspec": {
      "name": "python3",
      "display_name": "Python 3"
    },
    "language_info": {
      "name": "python"
    }
  },
  "cells": [
    {
      "cell_type": "markdown",
      "metadata": {
        "id": "view-in-github",
        "colab_type": "text"
      },
      "source": [
        "<a href=\"https://colab.research.google.com/github/NoufAloush/MASAR/blob/main/Python_HW_1%E2%80%8F.ipynb\" target=\"_parent\"><img src=\"https://colab.research.google.com/assets/colab-badge.svg\" alt=\"Open In Colab\"/></a>"
      ]
    },
    {
      "cell_type": "code",
      "source": [],
      "metadata": {
        "id": "_mrGwY-QFK2l"
      },
      "execution_count": null,
      "outputs": []
    },
    {
      "cell_type": "markdown",
      "source": [
        "#First code and examples\n",
        "print(\"Hello Masar!\")\n"
      ],
      "metadata": {
        "id": "v8skvtveFRZo"
      }
    },
    {
      "cell_type": "code",
      "source": [
        "#منصة مسار هم علماء البيانات\n",
        "\n",
        "name = 'نوف'\n",
        "\n",
        "age = 30\n",
        "print (f'أهلا بالجميع, أنا اسمي  {name} ,عمري {age}  ,  :)  (سأصبح أفضل محللة بيانات')\n",
        "\n",
        "\n"
      ],
      "metadata": {
        "colab": {
          "base_uri": "https://localhost:8080/"
        },
        "id": "5stKpz_xlYLt",
        "outputId": "5f6c46ed-a639-4e63-c304-61e1dc7691d7"
      },
      "execution_count": 19,
      "outputs": [
        {
          "output_type": "stream",
          "name": "stdout",
          "text": [
            "أهلا بالجميع, أنا اسمي  نوف ,عمري 30  ,  :)  (سأصبح أفضل محللة بيانات\n"
          ]
        }
      ]
    }
  ]
}